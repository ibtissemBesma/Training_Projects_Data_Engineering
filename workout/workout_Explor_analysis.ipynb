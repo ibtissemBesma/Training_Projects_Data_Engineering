{
 "cells": [
  {
   "cell_type": "code",
   "execution_count": 6,
   "id": "face0fc1-deac-4fdb-a75a-31fda9448690",
   "metadata": {},
   "outputs": [],
   "source": [
    "# Import the necessary libraries\n",
    "import pandas as pd\n",
    "import matplotlib.pyplot as plt\n",
    "import os"
   ]
  },
  {
   "cell_type": "code",
   "execution_count": 3,
   "id": "4e5cc758-1aa1-43ae-99f0-5b8bcc4042c1",
   "metadata": {},
   "outputs": [],
   "source": [
    "def extract_data(file_path):\n",
    "    return pd.read_csv(file_path)"
   ]
  },
  {
   "cell_type": "code",
   "execution_count": 11,
   "id": "8fc2d46e-c758-4d06-a124-39be39971070",
   "metadata": {},
   "outputs": [],
   "source": [
    "workout=extract_data('data/workout.csv') ##  month\t| workout_worldwide"
   ]
  },
  {
   "cell_type": "code",
   "execution_count": 24,
   "id": "acc294e5-33ef-465d-9715-58cc557e6759",
   "metadata": {},
   "outputs": [
    {
     "data": {
      "text/html": [
       "<div>\n",
       "<style scoped>\n",
       "    .dataframe tbody tr th:only-of-type {\n",
       "        vertical-align: middle;\n",
       "    }\n",
       "\n",
       "    .dataframe tbody tr th {\n",
       "        vertical-align: top;\n",
       "    }\n",
       "\n",
       "    .dataframe thead th {\n",
       "        text-align: right;\n",
       "    }\n",
       "</style>\n",
       "<table border=\"1\" class=\"dataframe\">\n",
       "  <thead>\n",
       "    <tr style=\"text-align: right;\">\n",
       "      <th></th>\n",
       "      <th>month</th>\n",
       "      <th>workout_worldwide</th>\n",
       "    </tr>\n",
       "  </thead>\n",
       "  <tbody>\n",
       "    <tr>\n",
       "      <th>57</th>\n",
       "      <td>2022-12</td>\n",
       "      <td>44</td>\n",
       "    </tr>\n",
       "  </tbody>\n",
       "</table>\n",
       "</div>"
      ],
      "text/plain": [
       "      month  workout_worldwide\n",
       "57  2022-12                 44"
      ]
     },
     "execution_count": 24,
     "metadata": {},
     "output_type": "execute_result"
    }
   ],
   "source": [
    "## workout.shape ##(61, 2)\n",
    "#workout['workout_worldwide'].max() 100\n",
    "##workout['workout_worldwide'].min() 44\n",
    "#workout[workout['workout_worldwide']==workout['workout_worldwide'].max()] 2020-04\t100\n",
    "#workout[workout['workout_worldwide']==workout['workout_worldwide'].min()] 2022-12\t44"
   ]
  },
  {
   "cell_type": "code",
   "execution_count": 26,
   "id": "bd36048b-e1a4-47f8-b140-12a049cbec1c",
   "metadata": {},
   "outputs": [
    {
     "data": {
      "text/plain": [
       "month                0\n",
       "workout_worldwide    0\n",
       "dtype: int64"
      ]
     },
     "execution_count": 26,
     "metadata": {},
     "output_type": "execute_result"
    }
   ],
   "source": [
    "#workout.duplicated().sum() np.int64(0)\n",
    "''' workout.isna().sum() \n",
    "month                0\n",
    "workout_worldwide    0 '''"
   ]
  },
  {
   "cell_type": "code",
   "execution_count": 27,
   "id": "61255599-d882-4969-a24a-648677c0ecc3",
   "metadata": {},
   "outputs": [
    {
     "data": {
      "text/plain": [
       "(array([14., 15., 15., 12.,  3.,  0.,  1.,  0.,  0.,  1.]),\n",
       " array([ 44. ,  49.6,  55.2,  60.8,  66.4,  72. ,  77.6,  83.2,  88.8,\n",
       "         94.4, 100. ]),\n",
       " <BarContainer object of 10 artists>)"
      ]
     },
     "execution_count": 27,
     "metadata": {},
     "output_type": "execute_result"
    },
    {
     "data": {
      "image/png": "[encoded data removed]",
      "text/plain": [
       "<Figure size 640x480 with 1 Axes>"
      ]
     },
     "metadata": {},
     "output_type": "display_data"
    }
   ],
   "source": [
    "plt.hist(workout.loc[:,'workout_worldwide'])"
   ]
  },
  {
   "cell_type": "code",
   "execution_count": 39,
   "id": "f2b638f4-b02e-4b82-8549-328cc40593de",
   "metadata": {},
   "outputs": [
    {
     "data": {
      "text/html": [
       "<div>\n",
       "<style scoped>\n",
       "    .dataframe tbody tr th:only-of-type {\n",
       "        vertical-align: middle;\n",
       "    }\n",
       "\n",
       "    .dataframe tbody tr th {\n",
       "        vertical-align: top;\n",
       "    }\n",
       "\n",
       "    .dataframe thead th {\n",
       "        text-align: right;\n",
       "    }\n",
       "</style>\n",
       "<table border=\"1\" class=\"dataframe\">\n",
       "  <thead>\n",
       "    <tr style=\"text-align: right;\">\n",
       "      <th></th>\n",
       "      <th>month</th>\n",
       "      <th>home_workout_worldwide</th>\n",
       "      <th>gym_workout_worldwide</th>\n",
       "      <th>home_gym_worldwide</th>\n",
       "    </tr>\n",
       "  </thead>\n",
       "  <tbody>\n",
       "    <tr>\n",
       "      <th>0</th>\n",
       "      <td>2018-03</td>\n",
       "      <td>12</td>\n",
       "      <td>16</td>\n",
       "      <td>10</td>\n",
       "    </tr>\n",
       "    <tr>\n",
       "      <th>1</th>\n",
       "      <td>2018-04</td>\n",
       "      <td>12</td>\n",
       "      <td>18</td>\n",
       "      <td>10</td>\n",
       "    </tr>\n",
       "  </tbody>\n",
       "</table>\n",
       "</div>"
      ],
      "text/plain": [
       "     month  home_workout_worldwide  gym_workout_worldwide  home_gym_worldwide\n",
       "0  2018-03                      12                     16                  10\n",
       "1  2018-04                      12                     18                  10"
      ]
     },
     "execution_count": 39,
     "metadata": {},
     "output_type": "execute_result"
    }
   ],
   "source": [
    "three_keywords=extract_data('data/three_keywords.csv')\n",
    "three_keywords.head(2)"
   ]
  },
  {
   "cell_type": "code",
   "execution_count": 45,
   "id": "f51ca81a-bea8-4d27-9541-d8ccad937078",
   "metadata": {},
   "outputs": [
    {
     "data": {
      "text/plain": [
       "'\\nthree_keywords.isna().sum()\\nmonth                     0\\nhome_workout_worldwide    0\\ngym_workout_worldwide     0\\nhome_gym_worldwide        0\\nthree_keywords.duplicated().sum()\\nnp.int64(0) '"
      ]
     },
     "execution_count": 45,
     "metadata": {},
     "output_type": "execute_result"
    }
   ],
   "source": [
    "'''\n",
    "three_keywords.isna().sum()\n",
    "month                     0\n",
    "home_workout_worldwide    0\n",
    "gym_workout_worldwide     0\n",
    "home_gym_worldwide        0\n",
    "three_keywords.duplicated().sum()\n",
    "np.int64(0) '''\n"
   ]
  },
  {
   "cell_type": "code",
   "execution_count": 56,
   "id": "0337fde0-caca-44ae-bc39-0c8384b6bd49",
   "metadata": {},
   "outputs": [
    {
     "data": {
      "text/plain": [
       "(array([27., 12.,  7.,  5.,  4.,  3.,  2.,  0.,  0.,  1.]),\n",
       " array([ 9. , 11.5, 14. , 16.5, 19. , 21.5, 24. , 26.5, 29. , 31.5, 34. ]),\n",
       " <BarContainer object of 10 artists>)"
      ]
     },
     "execution_count": 56,
     "metadata": {},
     "output_type": "execute_result"
    },
    {
     "data": {
      "image/png": "[encoded data removed]",
      "text/plain": [
       "<Figure size 640x480 with 1 Axes>"
      ]
     },
     "metadata": {},
     "output_type": "display_data"
    }
   ],
   "source": [
    "#plt.hist(three_keywords.loc[:,'home_workout_worldwide','gym_workout_worldwide','home_gym_worldwide'])\n",
    "plt.hist(three_keywords.loc[:,'home_workout_worldwide'],alpha=0.7)\n",
    "plt.hist(three_keywords.loc[:,'gym_workout_worldwide'],alpha=0.7)\n",
    "plt.hist(three_keywords.loc[:,'home_gym_worldwide'],alpha=0.7)"
   ]
  },
  {
   "cell_type": "code",
   "execution_count": 49,
   "id": "a671883e-37ca-4b83-bf28-7a83cd38dea3",
   "metadata": {},
   "outputs": [
    {
     "data": {
      "text/plain": [
       "(array([ 2.,  1.,  5.,  8.,  8., 22.,  3.,  5.,  3.,  4.]),\n",
       " array([10. , 11.2, 12.4, 13.6, 14.8, 16. , 17.2, 18.4, 19.6, 20.8, 22. ]),\n",
       " <BarContainer object of 10 artists>)"
      ]
     },
     "execution_count": 49,
     "metadata": {},
     "output_type": "execute_result"
    },
    {
     "data": {
      "image/png": "[encoded data removed]",
      "text/plain": [
       "<Figure size 640x480 with 1 Axes>"
      ]
     },
     "metadata": {},
     "output_type": "display_data"
    }
   ],
   "source": [
    "plt.hist(three_keywords.loc[:,'gym_workout_worldwide'])"
   ]
  },
  {
   "cell_type": "code",
   "execution_count": 52,
   "id": "c213e3e0-b766-4b3d-b1b7-04185da4b5aa",
   "metadata": {},
   "outputs": [
    {
     "data": {
      "text/plain": [
       "(array([27., 12.,  7.,  5.,  4.,  3.,  2.,  0.,  0.,  1.]),\n",
       " array([ 9. , 11.5, 14. , 16.5, 19. , 21.5, 24. , 26.5, 29. , 31.5, 34. ]),\n",
       " <BarContainer object of 10 artists>)"
      ]
     },
     "execution_count": 52,
     "metadata": {},
     "output_type": "execute_result"
    },
    {
     "data": {
      "image/png": "[encoded data removed]",
      "text/plain": [
       "<Figure size 640x480 with 1 Axes>"
      ]
     },
     "metadata": {},
     "output_type": "display_data"
    }
   ],
   "source": [
    "plt.hist(three_keywords.loc[:,'home_gym_worldwide'])"
   ]
  },
  {
   "cell_type": "code",
   "execution_count": 109,
   "id": "190ede0f-68ec-4ead-8a4c-0bd1f2f5aef7",
   "metadata": {},
   "outputs": [
    {
     "data": {
      "text/plain": [
       "<Axes: xlabel='month'>"
      ]
     },
     "execution_count": 109,
     "metadata": {},
     "output_type": "execute_result"
    },
    {
     "data": {
      "image/png": "[encoded data removed]",
      "text/plain": [
       "<Figure size 800x500 with 1 Axes>"
      ]
     },
     "metadata": {},
     "output_type": "display_data"
    }
   ],
   "source": [
    "three_keywords.plot(kind=\"line\",x='month', figsize=(8, 5))"
   ]
  },
  {
   "cell_type": "code",
   "execution_count": 59,
   "id": "53e6e684-4869-4f74-9265-2e2e50844aff",
   "metadata": {},
   "outputs": [
    {
     "data": {
      "text/plain": [
       "<Axes: ylabel='Frequency'>"
      ]
     },
     "execution_count": 59,
     "metadata": {},
     "output_type": "execute_result"
    },
    {
     "data": {
      "image/png": "[encoded data removed]",
      "text/plain": [
       "<Figure size 800x500 with 1 Axes>"
      ]
     },
     "metadata": {},
     "output_type": "display_data"
    }
   ],
   "source": [
    "three_keywords.plot(kind=\"hist\", bins=30, alpha=0.5, figsize=(8, 5))"
   ]
  },
  {
   "cell_type": "code",
   "execution_count": 60,
   "id": "aa86a900-d961-4a21-b353-407c26d003c3",
   "metadata": {},
   "outputs": [
    {
     "data": {
      "text/html": [
       "<div>\n",
       "<style scoped>\n",
       "    .dataframe tbody tr th:only-of-type {\n",
       "        vertical-align: middle;\n",
       "    }\n",
       "\n",
       "    .dataframe tbody tr th {\n",
       "        vertical-align: top;\n",
       "    }\n",
       "\n",
       "    .dataframe thead th {\n",
       "        text-align: right;\n",
       "    }\n",
       "</style>\n",
       "<table border=\"1\" class=\"dataframe\">\n",
       "  <thead>\n",
       "    <tr style=\"text-align: right;\">\n",
       "      <th></th>\n",
       "      <th>country</th>\n",
       "      <th>workout_2018_2023</th>\n",
       "    </tr>\n",
       "  </thead>\n",
       "  <tbody>\n",
       "    <tr>\n",
       "      <th>0</th>\n",
       "      <td>Guam</td>\n",
       "      <td>NaN</td>\n",
       "    </tr>\n",
       "    <tr>\n",
       "      <th>1</th>\n",
       "      <td>Falkland Islands (Islas Malvinas)</td>\n",
       "      <td>NaN</td>\n",
       "    </tr>\n",
       "  </tbody>\n",
       "</table>\n",
       "</div>"
      ],
      "text/plain": [
       "                             country  workout_2018_2023\n",
       "0                               Guam                NaN\n",
       "1  Falkland Islands (Islas Malvinas)                NaN"
      ]
     },
     "execution_count": 60,
     "metadata": {},
     "output_type": "execute_result"
    }
   ],
   "source": [
    "workout_geo=extract_data('data/workout_geo.csv')\n",
    "workout_geo.head(2)"
   ]
  },
  {
   "cell_type": "code",
   "execution_count": 62,
   "id": "7b49e1d7-6710-4531-a6ad-f280af29e104",
   "metadata": {},
   "outputs": [
    {
     "data": {
      "text/plain": [
       "country                0\n",
       "workout_2018_2023    189\n",
       "dtype: int64"
      ]
     },
     "execution_count": 62,
     "metadata": {},
     "output_type": "execute_result"
    }
   ],
   "source": [
    "#workout_geo.shape (250, 2)\n",
    "workout_geo.isna().sum()\n",
    "''' country                0\n",
    "workout_2018_2023    189'''"
   ]
  },
  {
   "cell_type": "code",
   "execution_count": 63,
   "id": "389c4f1a-590f-4ca3-8e7d-c757dcbd1653",
   "metadata": {},
   "outputs": [
    {
     "data": {
      "text/plain": [
       "np.int64(0)"
      ]
     },
     "execution_count": 63,
     "metadata": {},
     "output_type": "execute_result"
    }
   ],
   "source": [
    "#workout_geo.duplicated().sum() np.int64(0)"
   ]
  },
  {
   "cell_type": "code",
   "execution_count": 70,
   "id": "5c04f3e3-3b4a-481c-b725-c07574d86ccd",
   "metadata": {},
   "outputs": [
    {
     "data": {
      "text/html": [
       "<div>\n",
       "<style scoped>\n",
       "    .dataframe tbody tr th:only-of-type {\n",
       "        vertical-align: middle;\n",
       "    }\n",
       "\n",
       "    .dataframe tbody tr th {\n",
       "        vertical-align: top;\n",
       "    }\n",
       "\n",
       "    .dataframe thead th {\n",
       "        text-align: right;\n",
       "    }\n",
       "</style>\n",
       "<table border=\"1\" class=\"dataframe\">\n",
       "  <thead>\n",
       "    <tr style=\"text-align: right;\">\n",
       "      <th></th>\n",
       "      <th>country</th>\n",
       "      <th>workout_2018_2023</th>\n",
       "    </tr>\n",
       "  </thead>\n",
       "  <tbody>\n",
       "    <tr>\n",
       "      <th>0</th>\n",
       "      <td>Guam</td>\n",
       "      <td>NaN</td>\n",
       "    </tr>\n",
       "    <tr>\n",
       "      <th>1</th>\n",
       "      <td>Falkland Islands (Islas Malvinas)</td>\n",
       "      <td>NaN</td>\n",
       "    </tr>\n",
       "    <tr>\n",
       "      <th>2</th>\n",
       "      <td>Cook Islands</td>\n",
       "      <td>NaN</td>\n",
       "    </tr>\n",
       "    <tr>\n",
       "      <th>3</th>\n",
       "      <td>Brunei</td>\n",
       "      <td>NaN</td>\n",
       "    </tr>\n",
       "    <tr>\n",
       "      <th>4</th>\n",
       "      <td>Palau</td>\n",
       "      <td>NaN</td>\n",
       "    </tr>\n",
       "    <tr>\n",
       "      <th>...</th>\n",
       "      <td>...</td>\n",
       "      <td>...</td>\n",
       "    </tr>\n",
       "    <tr>\n",
       "      <th>245</th>\n",
       "      <td>Tokelau</td>\n",
       "      <td>NaN</td>\n",
       "    </tr>\n",
       "    <tr>\n",
       "      <th>246</th>\n",
       "      <td>Tuvalu</td>\n",
       "      <td>NaN</td>\n",
       "    </tr>\n",
       "    <tr>\n",
       "      <th>247</th>\n",
       "      <td>U.S. Outlying Islands</td>\n",
       "      <td>NaN</td>\n",
       "    </tr>\n",
       "    <tr>\n",
       "      <th>248</th>\n",
       "      <td>Vatican City</td>\n",
       "      <td>NaN</td>\n",
       "    </tr>\n",
       "    <tr>\n",
       "      <th>249</th>\n",
       "      <td>Wallis &amp; Futuna</td>\n",
       "      <td>NaN</td>\n",
       "    </tr>\n",
       "  </tbody>\n",
       "</table>\n",
       "<p>189 rows × 2 columns</p>\n",
       "</div>"
      ],
      "text/plain": [
       "                               country  workout_2018_2023\n",
       "0                                 Guam                NaN\n",
       "1    Falkland Islands (Islas Malvinas)                NaN\n",
       "2                         Cook Islands                NaN\n",
       "3                               Brunei                NaN\n",
       "4                                Palau                NaN\n",
       "..                                 ...                ...\n",
       "245                            Tokelau                NaN\n",
       "246                             Tuvalu                NaN\n",
       "247              U.S. Outlying Islands                NaN\n",
       "248                       Vatican City                NaN\n",
       "249                    Wallis & Futuna                NaN\n",
       "\n",
       "[189 rows x 2 columns]"
      ]
     },
     "execution_count": 70,
     "metadata": {},
     "output_type": "execute_result"
    }
   ],
   "source": [
    "workout_geo.loc[workout_geo['workout_2018_2023'].isna(),:]"
   ]
  },
  {
   "cell_type": "code",
   "execution_count": 79,
   "id": "c228e4c5-1c36-414f-85ac-7c7933e37289",
   "metadata": {},
   "outputs": [
    {
     "data": {
      "text/plain": [
       "country              250\n",
       "workout_2018_2023     61\n",
       "dtype: int64"
      ]
     },
     "execution_count": 79,
     "metadata": {},
     "output_type": "execute_result"
    }
   ],
   "source": [
    "workout_geo.notnull().sum()"
   ]
  },
  {
   "cell_type": "code",
   "execution_count": 77,
   "id": "094a43ff-d78d-44d4-ae4b-3643196ba6fa",
   "metadata": {},
   "outputs": [
    {
     "data": {
      "text/html": [
       "<div>\n",
       "<style scoped>\n",
       "    .dataframe tbody tr th:only-of-type {\n",
       "        vertical-align: middle;\n",
       "    }\n",
       "\n",
       "    .dataframe tbody tr th {\n",
       "        vertical-align: top;\n",
       "    }\n",
       "\n",
       "    .dataframe thead th {\n",
       "        text-align: right;\n",
       "    }\n",
       "</style>\n",
       "<table border=\"1\" class=\"dataframe\">\n",
       "  <thead>\n",
       "    <tr style=\"text-align: right;\">\n",
       "      <th></th>\n",
       "      <th>country</th>\n",
       "      <th>workout_2018_2023</th>\n",
       "    </tr>\n",
       "  </thead>\n",
       "  <tbody>\n",
       "    <tr>\n",
       "      <th>5</th>\n",
       "      <td>United States</td>\n",
       "      <td>100.0</td>\n",
       "    </tr>\n",
       "    <tr>\n",
       "      <th>12</th>\n",
       "      <td>Canada</td>\n",
       "      <td>86.0</td>\n",
       "    </tr>\n",
       "    <tr>\n",
       "      <th>18</th>\n",
       "      <td>Australia</td>\n",
       "      <td>77.0</td>\n",
       "    </tr>\n",
       "    <tr>\n",
       "      <th>22</th>\n",
       "      <td>New Zealand</td>\n",
       "      <td>73.0</td>\n",
       "    </tr>\n",
       "    <tr>\n",
       "      <th>23</th>\n",
       "      <td>Lebanon</td>\n",
       "      <td>73.0</td>\n",
       "    </tr>\n",
       "    <tr>\n",
       "      <th>...</th>\n",
       "      <td>...</td>\n",
       "      <td>...</td>\n",
       "    </tr>\n",
       "    <tr>\n",
       "      <th>208</th>\n",
       "      <td>Ukraine</td>\n",
       "      <td>2.0</td>\n",
       "    </tr>\n",
       "    <tr>\n",
       "      <th>209</th>\n",
       "      <td>Argentina</td>\n",
       "      <td>2.0</td>\n",
       "    </tr>\n",
       "    <tr>\n",
       "      <th>212</th>\n",
       "      <td>Russia</td>\n",
       "      <td>2.0</td>\n",
       "    </tr>\n",
       "    <tr>\n",
       "      <th>215</th>\n",
       "      <td>Brazil</td>\n",
       "      <td>2.0</td>\n",
       "    </tr>\n",
       "    <tr>\n",
       "      <th>216</th>\n",
       "      <td>Japan</td>\n",
       "      <td>1.0</td>\n",
       "    </tr>\n",
       "  </tbody>\n",
       "</table>\n",
       "<p>61 rows × 2 columns</p>\n",
       "</div>"
      ],
      "text/plain": [
       "           country  workout_2018_2023\n",
       "5    United States              100.0\n",
       "12          Canada               86.0\n",
       "18       Australia               77.0\n",
       "22     New Zealand               73.0\n",
       "23         Lebanon               73.0\n",
       "..             ...                ...\n",
       "208        Ukraine                2.0\n",
       "209      Argentina                2.0\n",
       "212         Russia                2.0\n",
       "215         Brazil                2.0\n",
       "216          Japan                1.0\n",
       "\n",
       "[61 rows x 2 columns]"
      ]
     },
     "execution_count": 77,
     "metadata": {},
     "output_type": "execute_result"
    }
   ],
   "source": [
    "workout_geo.loc[workout_geo['workout_2018_2023'].notnull(),:]"
   ]
  },
  {
   "cell_type": "code",
   "execution_count": 89,
   "id": "059d00a2-45ed-45c4-806d-db2c79be27bc",
   "metadata": {},
   "outputs": [
    {
     "data": {
      "text/plain": [
       "<Axes: xlabel='country'>"
      ]
     },
     "execution_count": 89,
     "metadata": {},
     "output_type": "execute_result"
    },
    {
     "data": {
      "image/png": "[encoded data removed]",
      "text/plain": [
       "<Figure size 640x480 with 1 Axes>"
      ]
     },
     "metadata": {},
     "output_type": "display_data"
    }
   ],
   "source": [
    "workout_geo.loc[workout_geo['workout_2018_2023'].notnull(),:].plot(kind='bar',x='country',y='workout_2018_2023',alpha=0.5)"
   ]
  },
  {
   "cell_type": "code",
   "execution_count": 99,
   "id": "7d4a495d-2a6c-4631-b001-78eb26ca0733",
   "metadata": {},
   "outputs": [
    {
     "data": {
      "text/html": [
       "<div>\n",
       "<style scoped>\n",
       "    .dataframe tbody tr th:only-of-type {\n",
       "        vertical-align: middle;\n",
       "    }\n",
       "\n",
       "    .dataframe tbody tr th {\n",
       "        vertical-align: top;\n",
       "    }\n",
       "\n",
       "    .dataframe thead th {\n",
       "        text-align: right;\n",
       "    }\n",
       "</style>\n",
       "<table border=\"1\" class=\"dataframe\">\n",
       "  <thead>\n",
       "    <tr style=\"text-align: right;\">\n",
       "      <th></th>\n",
       "      <th>Country</th>\n",
       "      <th>home_workout_2018_2023</th>\n",
       "      <th>gym_workout_2018_2023</th>\n",
       "      <th>home_gym_2018_2023</th>\n",
       "    </tr>\n",
       "  </thead>\n",
       "  <tbody>\n",
       "    <tr>\n",
       "      <th>0</th>\n",
       "      <td>Gibraltar</td>\n",
       "      <td>NaN</td>\n",
       "      <td>NaN</td>\n",
       "      <td>NaN</td>\n",
       "    </tr>\n",
       "    <tr>\n",
       "      <th>1</th>\n",
       "      <td>Lesotho</td>\n",
       "      <td>NaN</td>\n",
       "      <td>NaN</td>\n",
       "      <td>NaN</td>\n",
       "    </tr>\n",
       "  </tbody>\n",
       "</table>\n",
       "</div>"
      ],
      "text/plain": [
       "     Country  home_workout_2018_2023  gym_workout_2018_2023  \\\n",
       "0  Gibraltar                     NaN                    NaN   \n",
       "1    Lesotho                     NaN                    NaN   \n",
       "\n",
       "   home_gym_2018_2023  \n",
       "0                 NaN  \n",
       "1                 NaN  "
      ]
     },
     "execution_count": 99,
     "metadata": {},
     "output_type": "execute_result"
    }
   ],
   "source": [
    "three_keywords_geo=extract_data('data/three_keywords_geo.csv')\n",
    "three_keywords_geo.head(2)"
   ]
  },
  {
   "cell_type": "code",
   "execution_count": 93,
   "id": "b488ea3e-2144-48c8-bbd3-2d22cc3c6ca2",
   "metadata": {},
   "outputs": [
    {
     "data": {
      "text/plain": [
       "(250, 4)"
      ]
     },
     "execution_count": 93,
     "metadata": {},
     "output_type": "execute_result"
    }
   ],
   "source": [
    "#three_keywords_geo.isna().sum()\n",
    "''' Country                     0\n",
    "home_workout_2018_2023    203\n",
    "gym_workout_2018_2023     203\n",
    "home_gym_2018_2023        203'''\n",
    "#three_keywords_geo.shape (250, 4)"
   ]
  },
  {
   "cell_type": "code",
   "execution_count": 106,
   "id": "9ca95c14-e508-4d4d-96e6-c0deb5892ebc",
   "metadata": {},
   "outputs": [
    {
     "data": {
      "text/plain": [
       "Country                   47\n",
       "home_workout_2018_2023    47\n",
       "gym_workout_2018_2023     47\n",
       "home_gym_2018_2023        47\n",
       "dtype: int64"
      ]
     },
     "execution_count": 106,
     "metadata": {},
     "output_type": "execute_result"
    }
   ],
   "source": [
    "three_keywords_geo.notnull().sum()"
   ]
  },
  {
   "cell_type": "code",
   "execution_count": 103,
   "id": "70af6852-35d4-488f-be00-1e8b34a84638",
   "metadata": {},
   "outputs": [],
   "source": [
    "three_keywords_geo.dropna(subset=['home_workout_2018_2023'],inplace=True)"
   ]
  },
  {
   "cell_type": "code",
   "execution_count": 105,
   "id": "c403f86a-3c72-4b7e-bc50-f85c98dfa0a6",
   "metadata": {},
   "outputs": [],
   "source": [
    "three_keywords_geo.dropna(inplace=True)"
   ]
  },
  {
   "cell_type": "code",
   "execution_count": 98,
   "id": "cb129319-66df-4a0f-b944-4eb8e25d9971",
   "metadata": {},
   "outputs": [
    {
     "data": {
      "text/plain": [
       "(47, 4)"
      ]
     },
     "execution_count": 98,
     "metadata": {},
     "output_type": "execute_result"
    }
   ],
   "source": [
    "three_keywords_geo."
   ]
  },
  {
   "cell_type": "code",
   "execution_count": null,
   "id": "ec627924-b6a2-4192-a8af-dd5d9ca06076",
   "metadata": {},
   "outputs": [],
   "source": []
  }
 ],
 "metadata": {
  "kernelspec": {
   "display_name": "Python 3 (ipykernel)",
   "language": "python",
   "name": "python3"
  },
  "language_info": {
   "codemirror_mode": {
    "name": "ipython",
    "version": 3
   },
   "file_extension": ".py",
   "mimetype": "text/x-python",
   "name": "python",
   "nbconvert_exporter": "python",
   "pygments_lexer": "ipython3",
   "version": "3.13.1"
  }
 },
 "nbformat": 4,
 "nbformat_minor": 5
}
